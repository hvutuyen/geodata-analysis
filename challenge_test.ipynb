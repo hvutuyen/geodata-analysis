{
 "cells": [
  {
   "cell_type": "code",
   "execution_count": 29,
   "metadata": {},
   "outputs": [],
   "source": [
    "import geopandas as gpd\n",
    "import pandas as pd\n",
    "from matplotlib import pyplot as plt\n",
    "%matplotlib inline"
   ]
  },
  {
   "cell_type": "markdown",
   "metadata": {},
   "source": [
    "## Data preparation"
   ]
  },
  {
   "cell_type": "code",
   "execution_count": 30,
   "metadata": {},
   "outputs": [],
   "source": [
    "# load AOI dataset\n",
    "gdf_aoi = gpd.read_file(\"20200703_demo_grid_aoi.geojson\")"
   ]
  },
  {
   "cell_type": "code",
   "execution_count": 31,
   "metadata": {},
   "outputs": [
    {
     "data": {
      "text/plain": [
       "(1, 20)"
      ]
     },
     "execution_count": 31,
     "metadata": {},
     "output_type": "execute_result"
    }
   ],
   "source": [
    "gdf_aoi.shape"
   ]
  },
  {
   "cell_type": "code",
   "execution_count": 32,
   "metadata": {},
   "outputs": [],
   "source": [
    "# load tree dataset\n",
    "gdf_tree = gpd.read_file(\"20200703_single_tree_berlin_excerpt.geojson\")"
   ]
  },
  {
   "cell_type": "code",
   "execution_count": 33,
   "metadata": {},
   "outputs": [
    {
     "data": {
      "text/plain": [
       "(33225, 10)"
      ]
     },
     "execution_count": 33,
     "metadata": {},
     "output_type": "execute_result"
    }
   ],
   "source": [
    "gdf_tree.shape"
   ]
  },
  {
   "cell_type": "code",
   "execution_count": 34,
   "metadata": {},
   "outputs": [],
   "source": [
    "# convert treetop diam, tree height, year of planting columns into numeric\n",
    "\n",
    "gdf_tree[\"treetop_diam\"] = pd.to_numeric(gdf_tree[\"treetop_diam\"], errors=\"coerce\")\n",
    "gdf_tree[\"tree_height\"] = pd.to_numeric(gdf_tree[\"tree_height\"], errors=\"coerce\")\n",
    "gdf_tree[\"year_of_planting\"] = pd.to_numeric(gdf_tree[\"year_of_planting\"], errors=\"coerce\")"
   ]
  },
  {
   "cell_type": "code",
   "execution_count": 35,
   "metadata": {},
   "outputs": [
    {
     "data": {
      "text/html": [
       "<div>\n",
       "<style scoped>\n",
       "    .dataframe tbody tr th:only-of-type {\n",
       "        vertical-align: middle;\n",
       "    }\n",
       "\n",
       "    .dataframe tbody tr th {\n",
       "        vertical-align: top;\n",
       "    }\n",
       "\n",
       "    .dataframe thead th {\n",
       "        text-align: right;\n",
       "    }\n",
       "</style>\n",
       "<table border=\"1\" class=\"dataframe\">\n",
       "  <thead>\n",
       "    <tr style=\"text-align: right;\">\n",
       "      <th></th>\n",
       "      <th>id</th>\n",
       "      <th>genus</th>\n",
       "      <th>name_german</th>\n",
       "      <th>name_original</th>\n",
       "      <th>treetop_diam</th>\n",
       "      <th>tree_height</th>\n",
       "      <th>year_of_planting</th>\n",
       "      <th>license</th>\n",
       "      <th>credits</th>\n",
       "      <th>geometry</th>\n",
       "      <th>age</th>\n",
       "    </tr>\n",
       "  </thead>\n",
       "  <tbody>\n",
       "    <tr>\n",
       "      <th>0</th>\n",
       "      <td>3175201</td>\n",
       "      <td>Tilia</td>\n",
       "      <td>Winter-Linde</td>\n",
       "      <td>Tilia cordata</td>\n",
       "      <td>3.0</td>\n",
       "      <td>7.0</td>\n",
       "      <td>1998.0</td>\n",
       "      <td>Deutschland Namensnennung 2.0</td>\n",
       "      <td>Land Berlin</td>\n",
       "      <td>POINT (13.54829 52.52697)</td>\n",
       "      <td>22.0</td>\n",
       "    </tr>\n",
       "    <tr>\n",
       "      <th>1</th>\n",
       "      <td>3175214</td>\n",
       "      <td>Elaeagnus</td>\n",
       "      <td>None</td>\n",
       "      <td>Picea pungens 'Glauca'</td>\n",
       "      <td>5.0</td>\n",
       "      <td>7.0</td>\n",
       "      <td>1991.0</td>\n",
       "      <td>Deutschland Namensnennung 2.0</td>\n",
       "      <td>Land Berlin</td>\n",
       "      <td>POINT (13.56128 52.54016)</td>\n",
       "      <td>29.0</td>\n",
       "    </tr>\n",
       "    <tr>\n",
       "      <th>2</th>\n",
       "      <td>3175218</td>\n",
       "      <td>Acer</td>\n",
       "      <td>Spitz-Ahorn</td>\n",
       "      <td>Acer platanoides</td>\n",
       "      <td>7.0</td>\n",
       "      <td>7.0</td>\n",
       "      <td>1985.0</td>\n",
       "      <td>Deutschland Namensnennung 2.0</td>\n",
       "      <td>Land Berlin</td>\n",
       "      <td>POINT (13.55523 52.54787)</td>\n",
       "      <td>35.0</td>\n",
       "    </tr>\n",
       "    <tr>\n",
       "      <th>3</th>\n",
       "      <td>3175465</td>\n",
       "      <td>Populus</td>\n",
       "      <td>Simons Pappel</td>\n",
       "      <td>Populus simonii</td>\n",
       "      <td>11.0</td>\n",
       "      <td>17.0</td>\n",
       "      <td>1982.0</td>\n",
       "      <td>Deutschland Namensnennung 2.0</td>\n",
       "      <td>Land Berlin</td>\n",
       "      <td>POINT (13.55713 52.55021)</td>\n",
       "      <td>38.0</td>\n",
       "    </tr>\n",
       "    <tr>\n",
       "      <th>4</th>\n",
       "      <td>3175700</td>\n",
       "      <td>Acer</td>\n",
       "      <td>Spitz-Ahorn</td>\n",
       "      <td>Acer platanoides</td>\n",
       "      <td>5.0</td>\n",
       "      <td>7.0</td>\n",
       "      <td>1996.0</td>\n",
       "      <td>Deutschland Namensnennung 2.0</td>\n",
       "      <td>Land Berlin</td>\n",
       "      <td>POINT (13.56698 52.53506)</td>\n",
       "      <td>24.0</td>\n",
       "    </tr>\n",
       "  </tbody>\n",
       "</table>\n",
       "</div>"
      ],
      "text/plain": [
       "        id      genus    name_german           name_original  treetop_diam  \\\n",
       "0  3175201      Tilia   Winter-Linde           Tilia cordata           3.0   \n",
       "1  3175214  Elaeagnus           None  Picea pungens 'Glauca'           5.0   \n",
       "2  3175218       Acer    Spitz-Ahorn        Acer platanoides           7.0   \n",
       "3  3175465    Populus  Simons Pappel         Populus simonii          11.0   \n",
       "4  3175700       Acer    Spitz-Ahorn        Acer platanoides           5.0   \n",
       "\n",
       "   tree_height  year_of_planting                        license      credits  \\\n",
       "0          7.0            1998.0  Deutschland Namensnennung 2.0  Land Berlin   \n",
       "1          7.0            1991.0  Deutschland Namensnennung 2.0  Land Berlin   \n",
       "2          7.0            1985.0  Deutschland Namensnennung 2.0  Land Berlin   \n",
       "3         17.0            1982.0  Deutschland Namensnennung 2.0  Land Berlin   \n",
       "4          7.0            1996.0  Deutschland Namensnennung 2.0  Land Berlin   \n",
       "\n",
       "                    geometry   age  \n",
       "0  POINT (13.54829 52.52697)  22.0  \n",
       "1  POINT (13.56128 52.54016)  29.0  \n",
       "2  POINT (13.55523 52.54787)  35.0  \n",
       "3  POINT (13.55713 52.55021)  38.0  \n",
       "4  POINT (13.56698 52.53506)  24.0  "
      ]
     },
     "execution_count": 35,
     "metadata": {},
     "output_type": "execute_result"
    }
   ],
   "source": [
    "# create \"age\"-column calculated by actual year (2020) and column \"year_of_planting\"\n",
    "gdf_tree[\"age\"]= 2020 - gdf_tree[\"year_of_planting\"]\n",
    "\n",
    "gdf_tree.head()"
   ]
  },
  {
   "cell_type": "markdown",
   "metadata": {},
   "source": [
    "## Task 1\n",
    "\n",
    "identifying trees inside the AOI.\n",
    "Since _gpd.overlay()_ does not intersect polygons with points, _sjoin()_ was used to separate the data"
   ]
  },
  {
   "cell_type": "code",
   "execution_count": 36,
   "metadata": {},
   "outputs": [
    {
     "data": {
      "image/png": "[encoded data removed]",
      "text/plain": [
       "<Figure size 720x720 with 1 Axes>"
      ]
     },
     "metadata": {
      "needs_background": "light"
     },
     "output_type": "display_data"
    }
   ],
   "source": [
    "# join tree dataset points with AOI\n",
    "join = gpd.sjoin(gdf_aoi, gdf_tree, how=\"inner\", op=\"intersects\")\n",
    "join.plot(figsize=(10,10))\n",
    "plt.show()"
   ]
  },
  {
   "cell_type": "code",
   "execution_count": 37,
   "metadata": {},
   "outputs": [
    {
     "data": {
      "text/plain": [
       "(725, 31)"
      ]
     },
     "execution_count": 37,
     "metadata": {},
     "output_type": "execute_result"
    }
   ],
   "source": [
    "join.shape # check number of rows"
   ]
  },
  {
   "cell_type": "code",
   "execution_count": 38,
   "metadata": {},
   "outputs": [
    {
     "data": {
      "text/html": [
       "<div>\n",
       "<style scoped>\n",
       "    .dataframe tbody tr th:only-of-type {\n",
       "        vertical-align: middle;\n",
       "    }\n",
       "\n",
       "    .dataframe tbody tr th {\n",
       "        vertical-align: top;\n",
       "    }\n",
       "\n",
       "    .dataframe thead th {\n",
       "        text-align: right;\n",
       "    }\n",
       "</style>\n",
       "<table border=\"1\" class=\"dataframe\">\n",
       "  <thead>\n",
       "    <tr style=\"text-align: right;\">\n",
       "      <th></th>\n",
       "      <th>id_left</th>\n",
       "      <th>full_id</th>\n",
       "      <th>osm_id</th>\n",
       "      <th>osm_type</th>\n",
       "      <th>cables</th>\n",
       "      <th>frequency</th>\n",
       "      <th>gez</th>\n",
       "      <th>layer</th>\n",
       "      <th>name</th>\n",
       "      <th>operator</th>\n",
       "      <th>...</th>\n",
       "      <th>id_right</th>\n",
       "      <th>genus</th>\n",
       "      <th>name_german</th>\n",
       "      <th>name_original</th>\n",
       "      <th>treetop_diam</th>\n",
       "      <th>tree_height</th>\n",
       "      <th>year_of_planting</th>\n",
       "      <th>license</th>\n",
       "      <th>credits</th>\n",
       "      <th>age</th>\n",
       "    </tr>\n",
       "  </thead>\n",
       "  <tbody>\n",
       "    <tr>\n",
       "      <th>0</th>\n",
       "      <td>1</td>\n",
       "      <td>w166885638</td>\n",
       "      <td>166885638</td>\n",
       "      <td>way</td>\n",
       "      <td>3</td>\n",
       "      <td>50</td>\n",
       "      <td></td>\n",
       "      <td></td>\n",
       "      <td></td>\n",
       "      <td>Stromnetz Berlin</td>\n",
       "      <td>...</td>\n",
       "      <td>2903005</td>\n",
       "      <td>Prunus</td>\n",
       "      <td>Traubenkirsche</td>\n",
       "      <td>Pinus strobus</td>\n",
       "      <td>NaN</td>\n",
       "      <td>7.0</td>\n",
       "      <td>NaN</td>\n",
       "      <td>Deutschland Namensnennung 2.0</td>\n",
       "      <td>Land Berlin</td>\n",
       "      <td>NaN</td>\n",
       "    </tr>\n",
       "    <tr>\n",
       "      <th>0</th>\n",
       "      <td>1</td>\n",
       "      <td>w166885638</td>\n",
       "      <td>166885638</td>\n",
       "      <td>way</td>\n",
       "      <td>3</td>\n",
       "      <td>50</td>\n",
       "      <td></td>\n",
       "      <td></td>\n",
       "      <td></td>\n",
       "      <td>Stromnetz Berlin</td>\n",
       "      <td>...</td>\n",
       "      <td>2878942</td>\n",
       "      <td>Malus</td>\n",
       "      <td>Holz-Apfel</td>\n",
       "      <td>Pinus sylvestris</td>\n",
       "      <td>NaN</td>\n",
       "      <td>5.0</td>\n",
       "      <td>NaN</td>\n",
       "      <td>Deutschland Namensnennung 2.0</td>\n",
       "      <td>Land Berlin</td>\n",
       "      <td>NaN</td>\n",
       "    </tr>\n",
       "    <tr>\n",
       "      <th>0</th>\n",
       "      <td>1</td>\n",
       "      <td>w166885638</td>\n",
       "      <td>166885638</td>\n",
       "      <td>way</td>\n",
       "      <td>3</td>\n",
       "      <td>50</td>\n",
       "      <td></td>\n",
       "      <td></td>\n",
       "      <td></td>\n",
       "      <td>Stromnetz Berlin</td>\n",
       "      <td>...</td>\n",
       "      <td>2892059</td>\n",
       "      <td>Acer</td>\n",
       "      <td>Eschen-Ahorn</td>\n",
       "      <td>Acer negundo</td>\n",
       "      <td>NaN</td>\n",
       "      <td>17.0</td>\n",
       "      <td>NaN</td>\n",
       "      <td>Deutschland Namensnennung 2.0</td>\n",
       "      <td>Land Berlin</td>\n",
       "      <td>NaN</td>\n",
       "    </tr>\n",
       "    <tr>\n",
       "      <th>0</th>\n",
       "      <td>1</td>\n",
       "      <td>w166885638</td>\n",
       "      <td>166885638</td>\n",
       "      <td>way</td>\n",
       "      <td>3</td>\n",
       "      <td>50</td>\n",
       "      <td></td>\n",
       "      <td></td>\n",
       "      <td></td>\n",
       "      <td>Stromnetz Berlin</td>\n",
       "      <td>...</td>\n",
       "      <td>2892062</td>\n",
       "      <td>Acer</td>\n",
       "      <td>Eschen-Ahorn</td>\n",
       "      <td>Acer negundo</td>\n",
       "      <td>8.0</td>\n",
       "      <td>15.0</td>\n",
       "      <td>NaN</td>\n",
       "      <td>Deutschland Namensnennung 2.0</td>\n",
       "      <td>Land Berlin</td>\n",
       "      <td>NaN</td>\n",
       "    </tr>\n",
       "    <tr>\n",
       "      <th>0</th>\n",
       "      <td>1</td>\n",
       "      <td>w166885638</td>\n",
       "      <td>166885638</td>\n",
       "      <td>way</td>\n",
       "      <td>3</td>\n",
       "      <td>50</td>\n",
       "      <td></td>\n",
       "      <td></td>\n",
       "      <td></td>\n",
       "      <td>Stromnetz Berlin</td>\n",
       "      <td>...</td>\n",
       "      <td>2904980</td>\n",
       "      <td>Gleditsia</td>\n",
       "      <td>Amerikanische Gleditschie</td>\n",
       "      <td>Gleditsia triacanthos</td>\n",
       "      <td>5.0</td>\n",
       "      <td>17.0</td>\n",
       "      <td>NaN</td>\n",
       "      <td>Deutschland Namensnennung 2.0</td>\n",
       "      <td>Land Berlin</td>\n",
       "      <td>NaN</td>\n",
       "    </tr>\n",
       "  </tbody>\n",
       "</table>\n",
       "<p>5 rows × 31 columns</p>\n",
       "</div>"
      ],
      "text/plain": [
       "   id_left     full_id     osm_id osm_type cables frequency gez layer name  \\\n",
       "0        1  w166885638  166885638      way      3        50                  \n",
       "0        1  w166885638  166885638      way      3        50                  \n",
       "0        1  w166885638  166885638      way      3        50                  \n",
       "0        1  w166885638  166885638      way      3        50                  \n",
       "0        1  w166885638  166885638      way      3        50                  \n",
       "\n",
       "           operator  ... id_right      genus                name_german  \\\n",
       "0  Stromnetz Berlin  ...  2903005     Prunus             Traubenkirsche   \n",
       "0  Stromnetz Berlin  ...  2878942      Malus                 Holz-Apfel   \n",
       "0  Stromnetz Berlin  ...  2892059       Acer               Eschen-Ahorn   \n",
       "0  Stromnetz Berlin  ...  2892062       Acer               Eschen-Ahorn   \n",
       "0  Stromnetz Berlin  ...  2904980  Gleditsia  Amerikanische Gleditschie   \n",
       "\n",
       "           name_original treetop_diam tree_height year_of_planting  \\\n",
       "0          Pinus strobus          NaN         7.0              NaN   \n",
       "0       Pinus sylvestris          NaN         5.0              NaN   \n",
       "0           Acer negundo          NaN        17.0              NaN   \n",
       "0           Acer negundo          8.0        15.0              NaN   \n",
       "0  Gleditsia triacanthos          5.0        17.0              NaN   \n",
       "\n",
       "                         license      credits age  \n",
       "0  Deutschland Namensnennung 2.0  Land Berlin NaN  \n",
       "0  Deutschland Namensnennung 2.0  Land Berlin NaN  \n",
       "0  Deutschland Namensnennung 2.0  Land Berlin NaN  \n",
       "0  Deutschland Namensnennung 2.0  Land Berlin NaN  \n",
       "0  Deutschland Namensnennung 2.0  Land Berlin NaN  \n",
       "\n",
       "[5 rows x 31 columns]"
      ]
     },
     "execution_count": 38,
     "metadata": {},
     "output_type": "execute_result"
    }
   ],
   "source": [
    "join.head()"
   ]
  },
  {
   "cell_type": "code",
   "execution_count": 39,
   "metadata": {},
   "outputs": [
    {
     "data": {
      "text/plain": [
       "Index(['id', 'genus', 'name_german', 'name_original', 'treetop_diam',\n",
       "       'tree_height', 'year_of_planting', 'license', 'credits', 'geometry',\n",
       "       'age'],\n",
       "      dtype='object')"
      ]
     },
     "execution_count": 39,
     "metadata": {},
     "output_type": "execute_result"
    }
   ],
   "source": [
    "gdf_tree.columns"
   ]
  },
  {
   "cell_type": "code",
   "execution_count": null,
   "metadata": {},
   "outputs": [],
   "source": []
  },
  {
   "cell_type": "code",
   "execution_count": 40,
   "metadata": {},
   "outputs": [
    {
     "data": {
      "text/plain": [
       "(32500, 11)"
      ]
     },
     "execution_count": 40,
     "metadata": {},
     "output_type": "execute_result"
    }
   ],
   "source": [
    "# separate trees outside the AOI from main tree dataset\n",
    "trees_outside_AOI = gdf_tree[~gdf_tree['id'].isin(join['id_right'])] \n",
    "trees_outside_AOI.shape"
   ]
  },
  {
   "cell_type": "code",
   "execution_count": 41,
   "metadata": {},
   "outputs": [
    {
     "data": {
      "text/plain": [
       "(725, 11)"
      ]
     },
     "execution_count": 41,
     "metadata": {},
     "output_type": "execute_result"
    }
   ],
   "source": [
    "# determine trees inside AOI\n",
    "trees_inside_AOI = gdf_tree[gdf_tree[\"id\"].isin(join[\"id_right\"])]\n",
    "trees_inside_AOI.shape"
   ]
  },
  {
   "cell_type": "markdown",
   "metadata": {},
   "source": [
    "**There are 725 trees inside the AOI**"
   ]
  },
  {
   "cell_type": "code",
   "execution_count": 42,
   "metadata": {},
   "outputs": [
    {
     "data": {
      "image/png": "[encoded data removed]",
      "text/plain": [
       "<Figure size 720x720 with 1 Axes>"
      ]
     },
     "metadata": {
      "needs_background": "light"
     },
     "output_type": "display_data"
    }
   ],
   "source": [
    "#plot the location of the trees inside the AOI\n",
    "trees_inside_AOI.plot(figsize=(10,10))\n",
    "plt.show()"
   ]
  },
  {
   "cell_type": "markdown",
   "metadata": {},
   "source": [
    "## Task 2\n",
    "\n",
    "Calculate Mean, Std, Median for tree_height, treetop_diam, age"
   ]
  },
  {
   "cell_type": "code",
   "execution_count": 43,
   "metadata": {},
   "outputs": [
    {
     "name": "stdout",
     "output_type": "stream",
     "text": [
      "mean of treetop_diam inside AOI:  5.652958152958153\n",
      "median of treetop_diam inside AOI:  5.0\n",
      "standard dev of treetop_diam inside AOI:  2.4864623161034163\n",
      "____________________________\n",
      "mean of tree_height inside AOI:  12.32551724137931\n",
      "median of tree_height inside AOI:  12.0\n",
      "standard dev of tree_height inside AOI:  5.851898913961083\n",
      "____________________________\n",
      "mean of age inside AOI:  39.74792703150912\n",
      "median of age inside AOI:  35.0\n",
      "standard dev of age inside AOI:  17.84390070044359\n",
      "____________________________\n",
      "mean of treetop_diam outside AOI:  5.898360603246774\n",
      "median of treetop_diam outside AOI:  5.0\n",
      "standard dev of treetop_diam outside AOI:  3.591145299445828\n",
      "____________________________\n",
      "mean of tree_height outside AOI:  11.67966049382716\n",
      "median of tree_height outside AOI:  10.0\n",
      "standard dev of tree_height outside AOI:  6.835936555390318\n",
      "____________________________\n",
      "mean of age outside AOI:  39.428951769805785\n",
      "median of age outside AOI:  35.0\n",
      "standard dev of age outside AOI:  24.575478343753666\n"
     ]
    }
   ],
   "source": [
    "# in AOI treetop_diam\n",
    "print(\"mean of treetop_diam inside AOI: \",trees_inside_AOI[\"treetop_diam\"].mean())\n",
    "print(\"median of treetop_diam inside AOI: \",trees_inside_AOI[\"treetop_diam\"].median())\n",
    "print(\"standard dev of treetop_diam inside AOI: \",trees_inside_AOI[\"treetop_diam\"].std())\n",
    "print(\"____________________________\")\n",
    "# in AOI height\n",
    "print(\"mean of tree_height inside AOI: \",trees_inside_AOI[\"tree_height\"].mean())\n",
    "print(\"median of tree_height inside AOI: \",trees_inside_AOI[\"tree_height\"].median())\n",
    "print(\"standard dev of tree_height inside AOI: \",trees_inside_AOI[\"tree_height\"].std())\n",
    "print(\"____________________________\")\n",
    "# in AOI age\n",
    "print(\"mean of age inside AOI: \",trees_inside_AOI[\"age\"].mean())\n",
    "print(\"median of age inside AOI: \",trees_inside_AOI[\"age\"].median())\n",
    "print(\"standard dev of age inside AOI: \",trees_inside_AOI[\"age\"].std())\n",
    "print(\"____________________________\")\n",
    "# outside AOI treetop_diam\n",
    "print(\"mean of treetop_diam outside AOI: \",trees_outside_AOI[\"treetop_diam\"].mean())\n",
    "print(\"median of treetop_diam outside AOI: \",trees_outside_AOI[\"treetop_diam\"].median())\n",
    "print(\"standard dev of treetop_diam outside AOI: \",trees_outside_AOI[\"treetop_diam\"].std())\n",
    "print(\"____________________________\")\n",
    "# outside AOI height\n",
    "print(\"mean of tree_height outside AOI: \",trees_outside_AOI[\"tree_height\"].mean())\n",
    "print(\"median of tree_height outside AOI: \",trees_outside_AOI[\"tree_height\"].median())\n",
    "print(\"standard dev of tree_height outside AOI: \",trees_outside_AOI[\"tree_height\"].std())\n",
    "print(\"____________________________\")\n",
    "# outside AOI age\n",
    "print(\"mean of age outside AOI: \",trees_outside_AOI[\"age\"].mean())\n",
    "print(\"median of age outside AOI: \",trees_outside_AOI[\"age\"].median())\n",
    "print(\"standard dev of age outside AOI: \",trees_outside_AOI[\"age\"].std())"
   ]
  },
  {
   "cell_type": "code",
   "execution_count": 44,
   "metadata": {},
   "outputs": [
    {
     "data": {
      "text/html": [
       "<div>\n",
       "<style scoped>\n",
       "    .dataframe tbody tr th:only-of-type {\n",
       "        vertical-align: middle;\n",
       "    }\n",
       "\n",
       "    .dataframe tbody tr th {\n",
       "        vertical-align: top;\n",
       "    }\n",
       "\n",
       "    .dataframe thead th {\n",
       "        text-align: right;\n",
       "    }\n",
       "</style>\n",
       "<table border=\"1\" class=\"dataframe\">\n",
       "  <thead>\n",
       "    <tr style=\"text-align: right;\">\n",
       "      <th></th>\n",
       "      <th>treetop_diam</th>\n",
       "      <th>tree_height</th>\n",
       "      <th>year_of_planting</th>\n",
       "      <th>age</th>\n",
       "    </tr>\n",
       "  </thead>\n",
       "  <tbody>\n",
       "    <tr>\n",
       "      <th>count</th>\n",
       "      <td>693.000000</td>\n",
       "      <td>725.000000</td>\n",
       "      <td>603.000000</td>\n",
       "      <td>603.000000</td>\n",
       "    </tr>\n",
       "    <tr>\n",
       "      <th>mean</th>\n",
       "      <td>5.652958</td>\n",
       "      <td>12.325517</td>\n",
       "      <td>1980.252073</td>\n",
       "      <td>39.747927</td>\n",
       "    </tr>\n",
       "    <tr>\n",
       "      <th>std</th>\n",
       "      <td>2.486462</td>\n",
       "      <td>5.851899</td>\n",
       "      <td>17.843901</td>\n",
       "      <td>17.843901</td>\n",
       "    </tr>\n",
       "    <tr>\n",
       "      <th>min</th>\n",
       "      <td>1.000000</td>\n",
       "      <td>2.000000</td>\n",
       "      <td>1890.000000</td>\n",
       "      <td>2.000000</td>\n",
       "    </tr>\n",
       "    <tr>\n",
       "      <th>25%</th>\n",
       "      <td>4.000000</td>\n",
       "      <td>7.000000</td>\n",
       "      <td>1970.000000</td>\n",
       "      <td>30.000000</td>\n",
       "    </tr>\n",
       "    <tr>\n",
       "      <th>50%</th>\n",
       "      <td>5.000000</td>\n",
       "      <td>12.000000</td>\n",
       "      <td>1985.000000</td>\n",
       "      <td>35.000000</td>\n",
       "    </tr>\n",
       "    <tr>\n",
       "      <th>75%</th>\n",
       "      <td>7.000000</td>\n",
       "      <td>17.000000</td>\n",
       "      <td>1990.000000</td>\n",
       "      <td>50.000000</td>\n",
       "    </tr>\n",
       "    <tr>\n",
       "      <th>max</th>\n",
       "      <td>18.000000</td>\n",
       "      <td>45.000000</td>\n",
       "      <td>2018.000000</td>\n",
       "      <td>130.000000</td>\n",
       "    </tr>\n",
       "  </tbody>\n",
       "</table>\n",
       "</div>"
      ],
      "text/plain": [
       "       treetop_diam  tree_height  year_of_planting         age\n",
       "count    693.000000   725.000000        603.000000  603.000000\n",
       "mean       5.652958    12.325517       1980.252073   39.747927\n",
       "std        2.486462     5.851899         17.843901   17.843901\n",
       "min        1.000000     2.000000       1890.000000    2.000000\n",
       "25%        4.000000     7.000000       1970.000000   30.000000\n",
       "50%        5.000000    12.000000       1985.000000   35.000000\n",
       "75%        7.000000    17.000000       1990.000000   50.000000\n",
       "max       18.000000    45.000000       2018.000000  130.000000"
      ]
     },
     "execution_count": 44,
     "metadata": {},
     "output_type": "execute_result"
    }
   ],
   "source": [
    "# overview of basic statistics\n",
    "# Median = row \"50%\"\n",
    "trees_inside_AOI.describe()"
   ]
  },
  {
   "cell_type": "code",
   "execution_count": 45,
   "metadata": {},
   "outputs": [
    {
     "data": {
      "text/html": [
       "<div>\n",
       "<style scoped>\n",
       "    .dataframe tbody tr th:only-of-type {\n",
       "        vertical-align: middle;\n",
       "    }\n",
       "\n",
       "    .dataframe tbody tr th {\n",
       "        vertical-align: top;\n",
       "    }\n",
       "\n",
       "    .dataframe thead th {\n",
       "        text-align: right;\n",
       "    }\n",
       "</style>\n",
       "<table border=\"1\" class=\"dataframe\">\n",
       "  <thead>\n",
       "    <tr style=\"text-align: right;\">\n",
       "      <th></th>\n",
       "      <th>treetop_diam</th>\n",
       "      <th>tree_height</th>\n",
       "      <th>year_of_planting</th>\n",
       "      <th>age</th>\n",
       "    </tr>\n",
       "  </thead>\n",
       "  <tbody>\n",
       "    <tr>\n",
       "      <th>count</th>\n",
       "      <td>31231.000000</td>\n",
       "      <td>32400.000000</td>\n",
       "      <td>29297.000000</td>\n",
       "      <td>29297.000000</td>\n",
       "    </tr>\n",
       "    <tr>\n",
       "      <th>mean</th>\n",
       "      <td>5.898361</td>\n",
       "      <td>11.679660</td>\n",
       "      <td>1980.571048</td>\n",
       "      <td>39.428952</td>\n",
       "    </tr>\n",
       "    <tr>\n",
       "      <th>std</th>\n",
       "      <td>3.591145</td>\n",
       "      <td>6.835937</td>\n",
       "      <td>24.575478</td>\n",
       "      <td>24.575478</td>\n",
       "    </tr>\n",
       "    <tr>\n",
       "      <th>min</th>\n",
       "      <td>1.000000</td>\n",
       "      <td>1.000000</td>\n",
       "      <td>1068.000000</td>\n",
       "      <td>1.000000</td>\n",
       "    </tr>\n",
       "    <tr>\n",
       "      <th>25%</th>\n",
       "      <td>4.000000</td>\n",
       "      <td>7.000000</td>\n",
       "      <td>1970.000000</td>\n",
       "      <td>23.000000</td>\n",
       "    </tr>\n",
       "    <tr>\n",
       "      <th>50%</th>\n",
       "      <td>5.000000</td>\n",
       "      <td>10.000000</td>\n",
       "      <td>1985.000000</td>\n",
       "      <td>35.000000</td>\n",
       "    </tr>\n",
       "    <tr>\n",
       "      <th>75%</th>\n",
       "      <td>8.000000</td>\n",
       "      <td>15.000000</td>\n",
       "      <td>1997.000000</td>\n",
       "      <td>50.000000</td>\n",
       "    </tr>\n",
       "    <tr>\n",
       "      <th>max</th>\n",
       "      <td>38.000000</td>\n",
       "      <td>89.000000</td>\n",
       "      <td>2019.000000</td>\n",
       "      <td>952.000000</td>\n",
       "    </tr>\n",
       "  </tbody>\n",
       "</table>\n",
       "</div>"
      ],
      "text/plain": [
       "       treetop_diam   tree_height  year_of_planting           age\n",
       "count  31231.000000  32400.000000      29297.000000  29297.000000\n",
       "mean       5.898361     11.679660       1980.571048     39.428952\n",
       "std        3.591145      6.835937         24.575478     24.575478\n",
       "min        1.000000      1.000000       1068.000000      1.000000\n",
       "25%        4.000000      7.000000       1970.000000     23.000000\n",
       "50%        5.000000     10.000000       1985.000000     35.000000\n",
       "75%        8.000000     15.000000       1997.000000     50.000000\n",
       "max       38.000000     89.000000       2019.000000    952.000000"
      ]
     },
     "execution_count": 45,
     "metadata": {},
     "output_type": "execute_result"
    }
   ],
   "source": [
    "trees_outside_AOI.describe()"
   ]
  },
  {
   "cell_type": "markdown",
   "metadata": {},
   "source": [
    "## Task 3\n",
    "\n",
    "determine most abundant genus "
   ]
  },
  {
   "cell_type": "code",
   "execution_count": 46,
   "metadata": {},
   "outputs": [
    {
     "name": "stdout",
     "output_type": "stream",
     "text": [
      "Acer    8443\n",
      "Name: genus, dtype: int64\n",
      "Acer    252\n",
      "Name: genus, dtype: int64\n"
     ]
    }
   ],
   "source": [
    "genus_outside_AOI = trees_outside_AOI[\"genus\"].value_counts(dropna = False)\n",
    "top_genus_outside_AOI = genus_outside_AOI.head(1)\n",
    "print(top_genus_outside_AOI)\n",
    "\n",
    "genus_inside_AOI = trees_inside_AOI[\"genus\"].value_counts(dropna = False)\n",
    "top_genus_inside_AOI = genus_inside_AOI.head(1)\n",
    "print(top_genus_inside_AOI)"
   ]
  },
  {
   "cell_type": "markdown",
   "metadata": {},
   "source": [
    "**The most abundant genus outside the AOI is Acer with 8443 trees**\n",
    "\n",
    "**The most abundant genus inside the AOI is Acer with 252 trees**"
   ]
  },
  {
   "cell_type": "markdown",
   "metadata": {},
   "source": [
    "## Task 4\n",
    "\n",
    "plot correlation between age and tree height"
   ]
  },
  {
   "cell_type": "code",
   "execution_count": 47,
   "metadata": {},
   "outputs": [],
   "source": [
    "# removing NaN values\n",
    "trees_inside_AOI[\"age\"].isna().sum() # identify nan\n",
    "trees_inside_AOI_not_nan = trees_inside_AOI[lambda x: x['age'].notnull()]"
   ]
  },
  {
   "cell_type": "code",
   "execution_count": 48,
   "metadata": {},
   "outputs": [
    {
     "name": "stdout",
     "output_type": "stream",
     "text": [
      "100\n",
      "0\n",
      "(29268, 11)\n"
     ]
    }
   ],
   "source": [
    "print(trees_outside_AOI[\"tree_height\"].isna().sum())\n",
    "trees_outside_AOI_not_nan = trees_outside_AOI[lambda x: x[\"age\"].notnull() & x[\"tree_height\"].notnull()]\n",
    "print(trees_outside_AOI_not_nan[\"tree_height\"].isna().sum())\n",
    "print(trees_outside_AOI_not_nan.shape)"
   ]
  },
  {
   "cell_type": "code",
   "execution_count": 49,
   "metadata": {},
   "outputs": [
    {
     "name": "stdout",
     "output_type": "stream",
     "text": [
      "Correlation coefficient is:  0.5126036551638135\n"
     ]
    }
   ],
   "source": [
    "import numpy as np\n",
    "\n",
    "x = trees_inside_AOI_not_nan['age']\n",
    "y = trees_inside_AOI_not_nan[\"tree_height\"]\n",
    "coef_in = np.corrcoef(x,y)\n",
    "print(\"Correlation coefficient is: \", coef_in[0][1])"
   ]
  },
  {
   "cell_type": "code",
   "execution_count": 50,
   "metadata": {},
   "outputs": [
    {
     "name": "stdout",
     "output_type": "stream",
     "text": [
      "Correlation coefficient is:  0.6672077126830828\n"
     ]
    }
   ],
   "source": [
    "x0 = trees_outside_AOI_not_nan[\"age\"]\n",
    "y0 = trees_outside_AOI_not_nan[\"tree_height\"]\n",
    "coef_out = np.corrcoef(x0,y0)\n",
    "print(\"Correlation coefficient is: \", coef_out[0][1])"
   ]
  },
  {
   "cell_type": "code",
   "execution_count": 51,
   "metadata": {},
   "outputs": [
    {
     "data": {
      "image/png": "[encoded data removed]",
      "text/plain": [
       "<Figure size 432x288 with 1 Axes>"
      ]
     },
     "metadata": {
      "needs_background": "light"
     },
     "output_type": "display_data"
    }
   ],
   "source": [
    "# plot correlation between trees inside AOI with removed NaN values\n",
    "plt.scatter(x,y)\n",
    "\n",
    "plt.xlabel('$\\ Age$')\n",
    "plt.ylabel('$\\ Height$')\n",
    "plt.grid()\n",
    "plt.title(\"Correlation Tree Age and Tree Height inside AOI\")\n",
    "plt.show()"
   ]
  },
  {
   "cell_type": "code",
   "execution_count": 52,
   "metadata": {},
   "outputs": [
    {
     "data": {
      "image/png": "[encoded data removed]",
      "text/plain": [
       "<Figure size 432x288 with 1 Axes>"
      ]
     },
     "metadata": {
      "needs_background": "light"
     },
     "output_type": "display_data"
    }
   ],
   "source": [
    "# plot correlation between age and height of trees outside of AOI with removed NaN values\n",
    "plt.scatter(x0,y0)\n",
    "\n",
    "plt.xlabel('$\\ Age$')\n",
    "plt.ylabel('$\\ Height$')\n",
    "plt.grid()\n",
    "plt.title(\"Correlation Tree Age and Tree Height outside AOI\")\n",
    "plt.show()"
   ]
  },
  {
   "cell_type": "code",
   "execution_count": 53,
   "metadata": {},
   "outputs": [
    {
     "data": {
      "text/plain": [
       "(29267, 11)"
      ]
     },
     "execution_count": 53,
     "metadata": {},
     "output_type": "execute_result"
    }
   ],
   "source": [
    "# removing outlier\n",
    "trees_outside_AOI_filtered = trees_outside_AOI_not_nan[trees_outside_AOI_not_nan[\"age\"] < 900]\n",
    "trees_outside_AOI_filtered.shape # to check if value was removed"
   ]
  },
  {
   "cell_type": "code",
   "execution_count": 54,
   "metadata": {},
   "outputs": [
    {
     "data": {
      "image/png": "[encoded data removed]",
      "text/plain": [
       "<Figure size 432x288 with 1 Axes>"
      ]
     },
     "metadata": {
      "needs_background": "light"
     },
     "output_type": "display_data"
    }
   ],
   "source": [
    "# plot without outlier\n",
    "x1 = trees_outside_AOI_filtered[\"age\"]\n",
    "y1 = trees_outside_AOI_filtered[\"tree_height\"]\n",
    "plt.scatter(x1,y1)\n",
    "\n",
    "plt.xlabel('$\\ Age$')\n",
    "plt.ylabel('$\\ Height$')\n",
    "plt.grid()\n",
    "plt.title(\"Correlation Tree Age and Tree Height outside AOI and without outlier\")\n",
    "plt.show()"
   ]
  }
 ],
 "metadata": {
  "kernelspec": {
   "display_name": "Python 3",
   "language": "python",
   "name": "python3"
  },
  "language_info": {
   "codemirror_mode": {
    "name": "ipython",
    "version": 3
   },
   "file_extension": ".py",
   "mimetype": "text/x-python",
   "name": "python",
   "nbconvert_exporter": "python",
   "pygments_lexer": "ipython3",
   "version": "3.8.2"
  }
 },
 "nbformat": 4,
 "nbformat_minor": 4
}
